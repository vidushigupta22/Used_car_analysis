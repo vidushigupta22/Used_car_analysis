{
 "cells": [
  {
   "cell_type": "code",
   "execution_count": 2,
   "metadata": {},
   "outputs": [],
   "source": [
    "import pandas as pd\n",
    "import numpy as np\n",
    "import matplotlib.pyplot as plt \n",
    "import seaborn as sns\n",
    "import plotly.express as px"
   ]
  },
  {
   "cell_type": "code",
   "execution_count": 3,
   "metadata": {},
   "outputs": [],
   "source": [
    "used_cars = pd.read_csv(\"C:\\\\Users\\\\vidus\\\\Downloads\\\\Used_car_RawData.csv\")"
   ]
  },
  {
   "cell_type": "code",
   "execution_count": 4,
   "metadata": {},
   "outputs": [
    {
     "data": {
      "text/html": [
       "<div>\n",
       "<style scoped>\n",
       "    .dataframe tbody tr th:only-of-type {\n",
       "        vertical-align: middle;\n",
       "    }\n",
       "\n",
       "    .dataframe tbody tr th {\n",
       "        vertical-align: top;\n",
       "    }\n",
       "\n",
       "    .dataframe thead th {\n",
       "        text-align: right;\n",
       "    }\n",
       "</style>\n",
       "<table border=\"1\" class=\"dataframe\">\n",
       "  <thead>\n",
       "    <tr style=\"text-align: right;\">\n",
       "      <th></th>\n",
       "      <th>full_name</th>\n",
       "      <th>brand_name</th>\n",
       "      <th>selling_price</th>\n",
       "      <th>new_price</th>\n",
       "      <th>year</th>\n",
       "      <th>seller_type</th>\n",
       "      <th>km_driven</th>\n",
       "      <th>owner_type</th>\n",
       "      <th>fuel_type</th>\n",
       "      <th>transmission_type</th>\n",
       "      <th>mileage</th>\n",
       "      <th>engine</th>\n",
       "      <th>max_power</th>\n",
       "      <th>seats</th>\n",
       "    </tr>\n",
       "  </thead>\n",
       "  <tbody>\n",
       "    <tr>\n",
       "      <th>0</th>\n",
       "      <td>Maruti Alto Std</td>\n",
       "      <td>Maruti</td>\n",
       "      <td>1.2 Lakh*</td>\n",
       "      <td>NaN</td>\n",
       "      <td>2012</td>\n",
       "      <td>Individual</td>\n",
       "      <td>1,20,000 kms</td>\n",
       "      <td>First Owner</td>\n",
       "      <td>Petrol</td>\n",
       "      <td>Manual</td>\n",
       "      <td>Mileage19.7 kmpl</td>\n",
       "      <td>Engine796 CC</td>\n",
       "      <td>Max Power46.3 bhp</td>\n",
       "      <td>Seats5</td>\n",
       "    </tr>\n",
       "    <tr>\n",
       "      <th>1</th>\n",
       "      <td>Hyundai Grand i10 Asta</td>\n",
       "      <td>Hyundai</td>\n",
       "      <td>5.5 Lakh*</td>\n",
       "      <td>New Car (On-Road Price) : Rs.7.11-7.48 Lakh*</td>\n",
       "      <td>2016</td>\n",
       "      <td>Individual</td>\n",
       "      <td>20,000 kms</td>\n",
       "      <td>First Owner</td>\n",
       "      <td>Petrol</td>\n",
       "      <td>Manual</td>\n",
       "      <td>Mileage18.9 kmpl</td>\n",
       "      <td>Engine1197 CC</td>\n",
       "      <td>Max Power82 bhp</td>\n",
       "      <td>Seats5</td>\n",
       "    </tr>\n",
       "    <tr>\n",
       "      <th>2</th>\n",
       "      <td>Hyundai i20 Asta</td>\n",
       "      <td>Hyundai</td>\n",
       "      <td>2.15 Lakh*</td>\n",
       "      <td>NaN</td>\n",
       "      <td>2010</td>\n",
       "      <td>Individual</td>\n",
       "      <td>60,000 kms</td>\n",
       "      <td>First Owner</td>\n",
       "      <td>Petrol</td>\n",
       "      <td>Manual</td>\n",
       "      <td>Mileage17.0 kmpl</td>\n",
       "      <td>Engine1197 CC</td>\n",
       "      <td>Max Power80 bhp</td>\n",
       "      <td>Seats5</td>\n",
       "    </tr>\n",
       "    <tr>\n",
       "      <th>3</th>\n",
       "      <td>Maruti Alto K10 2010-2014 VXI</td>\n",
       "      <td>Maruti</td>\n",
       "      <td>2.26 Lakh*</td>\n",
       "      <td>NaN</td>\n",
       "      <td>2012</td>\n",
       "      <td>Individual</td>\n",
       "      <td>37,000 kms</td>\n",
       "      <td>First Owner</td>\n",
       "      <td>Petrol</td>\n",
       "      <td>Manual</td>\n",
       "      <td>Mileage20.92 kmpl</td>\n",
       "      <td>Engine998 CC</td>\n",
       "      <td>Max Power67.1 bhp</td>\n",
       "      <td>Seats5</td>\n",
       "    </tr>\n",
       "    <tr>\n",
       "      <th>4</th>\n",
       "      <td>Ford Ecosport 2015-2021 1.5 TDCi Titanium BSIV</td>\n",
       "      <td>Ford</td>\n",
       "      <td>5.7 Lakh*</td>\n",
       "      <td>New Car (On-Road Price) : Rs.10.14-13.79 Lakh*</td>\n",
       "      <td>2015</td>\n",
       "      <td>Dealer</td>\n",
       "      <td>30,000 kms</td>\n",
       "      <td>First Owner</td>\n",
       "      <td>Diesel</td>\n",
       "      <td>Manual</td>\n",
       "      <td>Mileage22.77 kmpl</td>\n",
       "      <td>Engine1498 CC</td>\n",
       "      <td>Max Power98.59 bhp</td>\n",
       "      <td>Seats5</td>\n",
       "    </tr>\n",
       "  </tbody>\n",
       "</table>\n",
       "</div>"
      ],
      "text/plain": [
       "                                        full_name brand_name selling_price  \\\n",
       "0                                 Maruti Alto Std     Maruti     1.2 Lakh*   \n",
       "1                          Hyundai Grand i10 Asta    Hyundai     5.5 Lakh*   \n",
       "2                                Hyundai i20 Asta    Hyundai    2.15 Lakh*   \n",
       "3                   Maruti Alto K10 2010-2014 VXI     Maruti    2.26 Lakh*   \n",
       "4  Ford Ecosport 2015-2021 1.5 TDCi Titanium BSIV       Ford     5.7 Lakh*   \n",
       "\n",
       "                                        new_price  year seller_type  \\\n",
       "0                                             NaN  2012  Individual   \n",
       "1    New Car (On-Road Price) : Rs.7.11-7.48 Lakh*  2016  Individual   \n",
       "2                                             NaN  2010  Individual   \n",
       "3                                             NaN  2012  Individual   \n",
       "4  New Car (On-Road Price) : Rs.10.14-13.79 Lakh*  2015      Dealer   \n",
       "\n",
       "      km_driven   owner_type fuel_type transmission_type            mileage  \\\n",
       "0  1,20,000 kms  First Owner    Petrol            Manual   Mileage19.7 kmpl   \n",
       "1    20,000 kms  First Owner    Petrol            Manual   Mileage18.9 kmpl   \n",
       "2    60,000 kms  First Owner    Petrol            Manual   Mileage17.0 kmpl   \n",
       "3    37,000 kms  First Owner    Petrol            Manual  Mileage20.92 kmpl   \n",
       "4    30,000 kms  First Owner    Diesel            Manual  Mileage22.77 kmpl   \n",
       "\n",
       "          engine           max_power   seats  \n",
       "0   Engine796 CC   Max Power46.3 bhp  Seats5  \n",
       "1  Engine1197 CC     Max Power82 bhp  Seats5  \n",
       "2  Engine1197 CC     Max Power80 bhp  Seats5  \n",
       "3   Engine998 CC   Max Power67.1 bhp  Seats5  \n",
       "4  Engine1498 CC  Max Power98.59 bhp  Seats5  "
      ]
     },
     "execution_count": 4,
     "metadata": {},
     "output_type": "execute_result"
    }
   ],
   "source": [
    "used_cars.head()\n",
    "\n",
    "# raw data 👇"
   ]
  },
  {
   "cell_type": "markdown",
   "metadata": {},
   "source": [
    "*Given below are some problems present in raw dataset,*\n",
    "\n",
    "*  NULL values present in some columns\n",
    "*  Text present with numerical values in columns\n",
    "*  No column present with Car brand name\n",
    "\n",
    "**So, we will overcome these problems by cleaning raw data and making data efficient enough to perform various operations on it**"
   ]
  },
  {
   "cell_type": "code",
   "execution_count": 5,
   "metadata": {},
   "outputs": [
    {
     "data": {
      "text/plain": [
       "full_name                0\n",
       "brand_name               0\n",
       "selling_price            0\n",
       "new_price            10410\n",
       "year                     0\n",
       "seller_type              0\n",
       "km_driven                0\n",
       "owner_type               0\n",
       "fuel_type                0\n",
       "transmission_type        0\n",
       "mileage                160\n",
       "engine                 110\n",
       "max_power              337\n",
       "seats                   87\n",
       "dtype: int64"
      ]
     },
     "execution_count": 5,
     "metadata": {},
     "output_type": "execute_result"
    }
   ],
   "source": [
    "null_values = used_cars.isnull().sum()\n",
    "null_values"
   ]
  },
  {
   "cell_type": "markdown",
   "metadata": {},
   "source": [
    "**We can see there are null values present in our datset which sums to approx 10000 i.e nearly 50% of our dataset**\\\n",
    "**As I checked the data thoroughly and removal of null values wont affect the overall insights**"
   ]
  },
  {
   "cell_type": "code",
   "execution_count": 6,
   "metadata": {},
   "outputs": [],
   "source": [
    "used_cars = used_cars.dropna()"
   ]
  },
  {
   "cell_type": "code",
   "execution_count": 7,
   "metadata": {},
   "outputs": [],
   "source": [
    "# REMOVING TEXT AND KEEPING ONLY NUMERICAL VALUES IN \"new_price\" COLUMN AND SAVING THE UPDATED VALUES IN NEW COLUMN i.e \"original_price\"\n",
    "\n",
    "originals = []\n",
    "for i in used_cars[\"new_price\"]:\n",
    "  \n",
    "    crore = False\n",
    "    s = i.split(\":\")[-1]\n",
    "\n",
    "    if \"Cr*\" in s:\n",
    "        crore = True\n",
    "\n",
    "    if \"-\" in s:\n",
    "        original = s.split(\"-\")[-1]\n",
    "        original = float(original.split(\" \")[0])\n",
    "\n",
    "        if crore:\n",
    "            original = original * 100\n",
    "\n",
    "        originals.append(original)\n",
    "       \n",
    "    else:\n",
    "     \n",
    "        without_dash = s.strip().split(\" \")[0]\n",
    "        without_dash = float(without_dash.replace(\"Rs.\",\"\"))\n",
    "        \n",
    "        if crore:\n",
    "            without_dash = without_dash * 100\n",
    "\n",
    "        originals.append(without_dash)\n",
    "       \n",
    "\n",
    "\n"
   ]
  },
  {
   "cell_type": "code",
   "execution_count": 8,
   "metadata": {},
   "outputs": [],
   "source": [
    "used_cars[\"original_price\"] = originals"
   ]
  },
  {
   "cell_type": "code",
   "execution_count": 9,
   "metadata": {},
   "outputs": [],
   "source": [
    "# REMOVING TEXT AND KEEPING ONLY NUMERICAL VALUES IN \"selling_price\" COLUMN AND SAVING THE UPDATED VALUES IN NEW COLUMN i.e \"SP\"\n",
    "\n",
    "sell_pr = []\n",
    "for s in used_cars[\"selling_price\"]:\n",
    "\n",
    "    crore = False\n",
    "    thousand = False\n",
    "    \n",
    "    if \"Cr*\" in s:\n",
    "        crore = True\n",
    "\n",
    "    if \"Cr*\" not in s and \"Lakh*\" not in s:\n",
    "        thousand = True\n",
    "\n",
    "    sp = s.split(\" \")[0]\n",
    "    sp = sp.replace(\"*\",\"\")\n",
    "    sp = sp.replace(\",\",\"\")\n",
    "\n",
    "    sp = float(sp)\n",
    "\n",
    "    if crore:\n",
    "           sp = sp * 100\n",
    "\n",
    "    if thousand:\n",
    "        sp = sp / 100000\n",
    "\n",
    "    sell_pr.append(sp)\n",
    "\n"
   ]
  },
  {
   "cell_type": "code",
   "execution_count": 10,
   "metadata": {},
   "outputs": [],
   "source": [
    "used_cars[\"SP\"] = sell_pr"
   ]
  },
  {
   "cell_type": "code",
   "execution_count": 11,
   "metadata": {},
   "outputs": [],
   "source": [
    "# REMOVING TEXT AND KEEPING ONLY NUMERICAL VALUES IN \"mileage\" COLUMN AND SAVING THE UPDATED VALUES IN NEW COLUMN i.e \"mileage_cars(kmpl)\"\n",
    "\n",
    "mileage_cars = []\n",
    "for m in used_cars[\"mileage\"]:\n",
    "    mileage_car = m.split(\" \")[0]\n",
    "    mileage_cars.append(float(mileage_car.replace(\"Mileage\",\"\")))\n"
   ]
  },
  {
   "cell_type": "code",
   "execution_count": 12,
   "metadata": {},
   "outputs": [],
   "source": [
    "used_cars[\"mileage_cars(kmpl)\"] = mileage_cars"
   ]
  },
  {
   "cell_type": "code",
   "execution_count": 13,
   "metadata": {},
   "outputs": [],
   "source": [
    "# REMOVING TEXT AND KEEPING ONLY NUMERICAL VALUES IN \"engine\" COLUMN AND SAVING THE UPDATED VALUES IN NEW COLUMN i.e \"engine_cc\"\n",
    "\n",
    "\n",
    "engine_cc = []\n",
    "for e in used_cars[\"engine\"]:\n",
    "    engine_c = e.split(\" \")[0]\n",
    "    engine_cc.append(float(engine_c.replace(\"Engine\",\"\")))\n",
    "\n",
    "engine_cc\n",
    "used_cars[\"engine_cc\"] = engine_cc"
   ]
  },
  {
   "cell_type": "code",
   "execution_count": 14,
   "metadata": {},
   "outputs": [],
   "source": [
    "used_cars[\"engine_cc\"] = engine_cc"
   ]
  },
  {
   "cell_type": "code",
   "execution_count": 15,
   "metadata": {},
   "outputs": [],
   "source": [
    "# REMOVING TEXT AND KEEPING ONLY NUMERICAL VALUES IN \"max_power\" COLUMN AND SAVING THE UPDATED VALUES IN NEW COLUMN i.e \"maxx_power\"\n",
    "\n",
    "\n",
    "maxx_power = []\n",
    "for m in used_cars[\"max_power\"]:\n",
    "    power = m.split(\" \")[1]\n",
    "    maxx_power.append(float(power.replace(\"Power\",\"\")))"
   ]
  },
  {
   "cell_type": "code",
   "execution_count": 16,
   "metadata": {},
   "outputs": [],
   "source": [
    "used_cars[\"maxx_power\"] = maxx_power"
   ]
  },
  {
   "cell_type": "code",
   "execution_count": 17,
   "metadata": {},
   "outputs": [],
   "source": [
    "# REMOVING TEXT AND KEEPING ONLY NUMERICAL VALUES IN \"km_driven\" COLUMN AND SAVING THE UPDATED VALUES IN NEW COLUMN i.e \"Kmeter_driven\"\n",
    "\n",
    "kilo = []\n",
    "for k in used_cars[\"km_driven\"]:\n",
    "    # print(k)\n",
    "    km = k.split(\" \")[0]\n",
    "    km = km.replace(\",\",\"\")\n",
    "    \n",
    "    kilo.append(float(km))\n"
   ]
  },
  {
   "cell_type": "code",
   "execution_count": 18,
   "metadata": {},
   "outputs": [],
   "source": [
    "used_cars[\"Kmeter_driven\"] = kilo"
   ]
  },
  {
   "cell_type": "code",
   "execution_count": 19,
   "metadata": {},
   "outputs": [],
   "source": [
    "# WE NEED TO REMOVE SEAT TEXT IN SEAT COLUMN\n",
    "seat = []\n",
    "for s in used_cars[\"seats\"]:\n",
    "    rep = s.replace(\"Seats\",\"\")\n",
    "    seat.append(float(rep))"
   ]
  },
  {
   "cell_type": "code",
   "execution_count": 20,
   "metadata": {},
   "outputs": [],
   "source": [
    "used_cars[\"seat\"] = seat"
   ]
  },
  {
   "cell_type": "code",
   "execution_count": 21,
   "metadata": {},
   "outputs": [],
   "source": [
    "# here we are removing old columns all together \n",
    "\n",
    "colls_to_drops = ['mileage','engine','max_power','selling_price','new_price','km_driven','seats']"
   ]
  },
  {
   "cell_type": "code",
   "execution_count": 22,
   "metadata": {},
   "outputs": [],
   "source": [
    "used_cars = used_cars.drop(columns = colls_to_drops)"
   ]
  },
  {
   "cell_type": "code",
   "execution_count": 23,
   "metadata": {},
   "outputs": [
    {
     "data": {
      "text/html": [
       "<div>\n",
       "<style scoped>\n",
       "    .dataframe tbody tr th:only-of-type {\n",
       "        vertical-align: middle;\n",
       "    }\n",
       "\n",
       "    .dataframe tbody tr th {\n",
       "        vertical-align: top;\n",
       "    }\n",
       "\n",
       "    .dataframe thead th {\n",
       "        text-align: right;\n",
       "    }\n",
       "</style>\n",
       "<table border=\"1\" class=\"dataframe\">\n",
       "  <thead>\n",
       "    <tr style=\"text-align: right;\">\n",
       "      <th></th>\n",
       "      <th>full_name</th>\n",
       "      <th>brand_name</th>\n",
       "      <th>year</th>\n",
       "      <th>seller_type</th>\n",
       "      <th>owner_type</th>\n",
       "      <th>fuel_type</th>\n",
       "      <th>transmission_type</th>\n",
       "      <th>original_price</th>\n",
       "      <th>SP</th>\n",
       "      <th>mileage_cars(kmpl)</th>\n",
       "      <th>engine_cc</th>\n",
       "      <th>maxx_power</th>\n",
       "      <th>Kmeter_driven</th>\n",
       "      <th>seat</th>\n",
       "    </tr>\n",
       "  </thead>\n",
       "  <tbody>\n",
       "    <tr>\n",
       "      <th>1</th>\n",
       "      <td>Hyundai Grand i10 Asta</td>\n",
       "      <td>Hyundai</td>\n",
       "      <td>2016</td>\n",
       "      <td>Individual</td>\n",
       "      <td>First Owner</td>\n",
       "      <td>Petrol</td>\n",
       "      <td>Manual</td>\n",
       "      <td>7.48</td>\n",
       "      <td>5.50</td>\n",
       "      <td>18.90</td>\n",
       "      <td>1197.0</td>\n",
       "      <td>82.00</td>\n",
       "      <td>20000.0</td>\n",
       "      <td>5.0</td>\n",
       "    </tr>\n",
       "    <tr>\n",
       "      <th>4</th>\n",
       "      <td>Ford Ecosport 2015-2021 1.5 TDCi Titanium BSIV</td>\n",
       "      <td>Ford</td>\n",
       "      <td>2015</td>\n",
       "      <td>Dealer</td>\n",
       "      <td>First Owner</td>\n",
       "      <td>Diesel</td>\n",
       "      <td>Manual</td>\n",
       "      <td>13.79</td>\n",
       "      <td>5.70</td>\n",
       "      <td>22.77</td>\n",
       "      <td>1498.0</td>\n",
       "      <td>98.59</td>\n",
       "      <td>30000.0</td>\n",
       "      <td>5.0</td>\n",
       "    </tr>\n",
       "    <tr>\n",
       "      <th>5</th>\n",
       "      <td>Maruti Wagon R VXI BS IV</td>\n",
       "      <td>Maruti</td>\n",
       "      <td>2013</td>\n",
       "      <td>Individual</td>\n",
       "      <td>First Owner</td>\n",
       "      <td>Petrol</td>\n",
       "      <td>Manual</td>\n",
       "      <td>6.94</td>\n",
       "      <td>3.50</td>\n",
       "      <td>18.90</td>\n",
       "      <td>998.0</td>\n",
       "      <td>67.10</td>\n",
       "      <td>35000.0</td>\n",
       "      <td>5.0</td>\n",
       "    </tr>\n",
       "    <tr>\n",
       "      <th>6</th>\n",
       "      <td>Hyundai i10 Sportz 1.2</td>\n",
       "      <td>Hyundai</td>\n",
       "      <td>2013</td>\n",
       "      <td>Dealer</td>\n",
       "      <td>First Owner</td>\n",
       "      <td>Petrol</td>\n",
       "      <td>Manual</td>\n",
       "      <td>6.63</td>\n",
       "      <td>3.15</td>\n",
       "      <td>20.36</td>\n",
       "      <td>1197.0</td>\n",
       "      <td>78.90</td>\n",
       "      <td>40000.0</td>\n",
       "      <td>5.0</td>\n",
       "    </tr>\n",
       "    <tr>\n",
       "      <th>7</th>\n",
       "      <td>Maruti Wagon R VXI</td>\n",
       "      <td>Maruti</td>\n",
       "      <td>2018</td>\n",
       "      <td>Dealer</td>\n",
       "      <td>First Owner</td>\n",
       "      <td>Petrol</td>\n",
       "      <td>Manual</td>\n",
       "      <td>7.01</td>\n",
       "      <td>4.10</td>\n",
       "      <td>20.51</td>\n",
       "      <td>998.0</td>\n",
       "      <td>67.04</td>\n",
       "      <td>17512.0</td>\n",
       "      <td>5.0</td>\n",
       "    </tr>\n",
       "  </tbody>\n",
       "</table>\n",
       "</div>"
      ],
      "text/plain": [
       "                                        full_name brand_name  year  \\\n",
       "1                          Hyundai Grand i10 Asta    Hyundai  2016   \n",
       "4  Ford Ecosport 2015-2021 1.5 TDCi Titanium BSIV       Ford  2015   \n",
       "5                        Maruti Wagon R VXI BS IV     Maruti  2013   \n",
       "6                          Hyundai i10 Sportz 1.2    Hyundai  2013   \n",
       "7                              Maruti Wagon R VXI     Maruti  2018   \n",
       "\n",
       "  seller_type   owner_type fuel_type transmission_type  original_price    SP  \\\n",
       "1  Individual  First Owner    Petrol            Manual            7.48  5.50   \n",
       "4      Dealer  First Owner    Diesel            Manual           13.79  5.70   \n",
       "5  Individual  First Owner    Petrol            Manual            6.94  3.50   \n",
       "6      Dealer  First Owner    Petrol            Manual            6.63  3.15   \n",
       "7      Dealer  First Owner    Petrol            Manual            7.01  4.10   \n",
       "\n",
       "   mileage_cars(kmpl)  engine_cc  maxx_power  Kmeter_driven  seat  \n",
       "1               18.90     1197.0       82.00        20000.0   5.0  \n",
       "4               22.77     1498.0       98.59        30000.0   5.0  \n",
       "5               18.90      998.0       67.10        35000.0   5.0  \n",
       "6               20.36     1197.0       78.90        40000.0   5.0  \n",
       "7               20.51      998.0       67.04        17512.0   5.0  "
      ]
     },
     "execution_count": 23,
     "metadata": {},
     "output_type": "execute_result"
    }
   ],
   "source": [
    "used_cars.head()"
   ]
  },
  {
   "cell_type": "code",
   "execution_count": 24,
   "metadata": {},
   "outputs": [],
   "source": [
    "# saving the cleaned data into a new csv file \n",
    "\n",
    "used_cars.to_csv('used_cars_cleanedd.csv')"
   ]
  }
 ],
 "metadata": {
  "kernelspec": {
   "display_name": "Python 3.10.5 64-bit",
   "language": "python",
   "name": "python3"
  },
  "language_info": {
   "codemirror_mode": {
    "name": "ipython",
    "version": 3
   },
   "file_extension": ".py",
   "mimetype": "text/x-python",
   "name": "python",
   "nbconvert_exporter": "python",
   "pygments_lexer": "ipython3",
   "version": "3.10.5"
  },
  "orig_nbformat": 4,
  "vscode": {
   "interpreter": {
    "hash": "9bac41901b9a6d52aed767962cc07bbd827feb90d447877507a1c70aa75d38fb"
   }
  }
 },
 "nbformat": 4,
 "nbformat_minor": 2
}
